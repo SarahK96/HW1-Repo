{
 "cells": [
  {
   "cell_type": "markdown",
   "metadata": {},
   "source": [
    "Sarah Kerman shk83@pitt.edu 09/03/17\n",
    "Australian Broadcasting Commission 2006\n",
    "    - Author: Australian Broadcasting Commission\n",
    "    - http://www.nltk.org/nltk_data/\n",
    "    - contains 3MB of news broadcast transcripts, divided into \"rural\" and \"science\" categories\n",
    "    - chose not to use either corpus from my TODO 1, since both of them were in formats other than .txt"
   ]
  },
  {
   "cell_type": "markdown",
   "metadata": {},
   "source": [
    "this is filler for now"
   ]
  },
  {
   "cell_type": "code",
   "execution_count": null,
   "metadata": {
    "collapsed": true
   },
   "outputs": [],
   "source": [
    "import nltk\n",
    "#loading data\n",
    "from ntlk.corpus import PlaintextCorpusReader\n",
    "corpus_root='data/abc'\n",
    "abc=PlaintextCorpusReader(corpus_root,'.*')\n",
    "#printing data samples\n",
    "print('rural.txt sample')\n",
    "print(abc.words('rural.txt')[:100])\n",
    "print()\n",
    "print('science.txt sample')\n",
    "print(abc.words('science.txt')[:100])"
   ]
  }
 ],
 "metadata": {
  "kernelspec": {
   "display_name": "Python 3",
   "language": "python",
   "name": "python3"
  },
  "language_info": {
   "codemirror_mode": {
    "name": "ipython",
    "version": 3
   },
   "file_extension": ".py",
   "mimetype": "text/x-python",
   "name": "python",
   "nbconvert_exporter": "python",
   "pygments_lexer": "ipython3",
   "version": "3.6.1"
  }
 },
 "nbformat": 4,
 "nbformat_minor": 2
}
